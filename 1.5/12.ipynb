{
 "cells": [
  {
   "cell_type": "code",
   "execution_count": 2,
   "id": "ffc1271b-6d10-42f4-ab52-6ceec6bbd94c",
   "metadata": {},
   "outputs": [
    {
     "name": "stdout",
     "output_type": "stream",
     "text": [
      "Mean Squared Error: 0.10578771271070171\n",
      "R-squared: 0.7022440886315098\n",
      "Model Coefficients: [0.53464302]\n",
      "Model Intercept: -0.8084930753740767\n",
      "Predicted package for CGPA 7.0: 2.93400806434289\n"
     ]
    },
    {
     "name": "stderr",
     "output_type": "stream",
     "text": [
      "C:\\Users\\Abhishek\\AppData\\Local\\Programs\\Python\\Python310\\lib\\site-packages\\sklearn\\base.py:493: UserWarning: X does not have valid feature names, but LinearRegression was fitted with feature names\n",
      "  warnings.warn(\n"
     ]
    }
   ],
   "source": [
    "import numpy as np\n",
    "import pandas as pd\n",
    "from sklearn.linear_model import LinearRegression\n",
    "from sklearn.metrics import mean_squared_error, r2_score\n",
    "\n",
    "# Load additional dataset from CSV file\n",
    "file_path = r\"C:\\Users\\Abhishek\\Downloads\\linear regresssion - PLACEMENT - Sheet1.csv.csv\"\n",
    "additional_df = pd.read_csv(file_path)\n",
    "\n",
    "# Existing data\n",
    "data = {\n",
    "    'cgpa': [6.89, 5.12, 7.82, 7.42, 6.94, 7.89, 6.73, 6.75, 6.09, 8.31, 5.32, 6.61],\n",
    "    'package': [3.26, 1.98, 3.25, 3.67, 3.57, 2.99, 2.6, 2.48, 2.31, 3.51, 1.86, 2.6]\n",
    "}\n",
    "df = pd.DataFrame(data)\n",
    "\n",
    "# Combine the existing data with the additional dataset\n",
    "combined_df = pd.concat([df, additional_df], ignore_index=True)\n",
    "\n",
    "# Prepare input and output\n",
    "X = combined_df[['cgpa']]\n",
    "y = combined_df['package']\n",
    "\n",
    "# Initialize and train the model\n",
    "model = LinearRegression()\n",
    "model.fit(X, y)\n",
    "\n",
    "# Make predictions\n",
    "y_pred = model.predict(X)\n",
    "\n",
    "# Evaluate the model\n",
    "mse = mean_squared_error(y, y_pred)\n",
    "r2 = r2_score(y, y_pred)\n",
    "\n",
    "# Output results\n",
    "print(\"Mean Squared Error:\", mse)\n",
    "print(\"R-squared:\", r2)\n",
    "print(\"Model Coefficients:\", model.coef_)\n",
    "print(\"Model Intercept:\", model.intercept_)\n",
    "\n",
    "# Example prediction\n",
    "new_cgpa = np.array([[7.0]])  # example CGPA\n",
    "predicted_package = model.predict(new_cgpa)\n",
    "print(\"Predicted package for CGPA 7.0:\", predicted_package[0])\n"
   ]
  },
  {
   "cell_type": "code",
   "execution_count": null,
   "id": "091e75aa-43ce-43d0-b31e-41f64294c424",
   "metadata": {},
   "outputs": [],
   "source": []
  }
 ],
 "metadata": {
  "kernelspec": {
   "display_name": "Python 3 (ipykernel)",
   "language": "python",
   "name": "python3"
  },
  "language_info": {
   "codemirror_mode": {
    "name": "ipython",
    "version": 3
   },
   "file_extension": ".py",
   "mimetype": "text/x-python",
   "name": "python",
   "nbconvert_exporter": "python",
   "pygments_lexer": "ipython3",
   "version": "3.10.9"
  }
 },
 "nbformat": 4,
 "nbformat_minor": 5
}
