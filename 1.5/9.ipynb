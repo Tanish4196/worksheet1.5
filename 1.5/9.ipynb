{
 "cells": [
  {
   "cell_type": "code",
   "execution_count": 3,
   "id": "9b7abc02-2141-492c-b36c-b69e59b54d23",
   "metadata": {},
   "outputs": [
    {
     "name": "stdout",
     "output_type": "stream",
     "text": [
      "Index(['NAME', 'ROLL NUMBER', 'SECTION ', 'DEPARTMENT ', 'GENDER', 'MARKS',\n",
      "       'STIPENED'],\n",
      "      dtype='object')\n",
      "Column 'Marks' not found in the DataFrame\n",
      "              NAME  ROLL NUMBER SECTION  DEPARTMENT   GENDER   MARKS  STIPENED\n",
      "0              NaN   12237110.0      NaN         MBA    MALE    25.0      1000\n",
      "1            Sagar    1222124.0        C         BBA    MALE    66.0      2000\n",
      "2    Sheikh Faisal    1222141.0        C         BBA    MALE  1000.0      1500\n",
      "3          Shiwani   12237108.0        B         MBA    MALE     NaN      1600\n",
      "4            Mehak          NaN       4B         BBA    MALE    33.0      2500\n",
      "5        Aman Raj           NaN        C         BBA  FEMALE     NaN     20000\n",
      "6     Tanu kumari     1222074.0        B         BBA     NaN   111.0     30000\n",
      "7          Tushar           NaN        B         MBA  FEMALE    22.0       200\n",
      "8    Prabhjot kaur    1222097.0        B         BBA    MALE     NaN      2600\n",
      "9            ADITI    1222370.0        B         BBA     NaN    56.0      1900\n",
      "10     Nidhi Singh   11222786.0        A         BBA    MALE    -2.0      1800\n",
      "11             NaN    1222184.0        C         BBA    MALE    22.0      1650\n",
      "12  Chandan Kumar    12237243.0        D         NaN     NaN    99.0     35000\n",
      "13   Sheikh Faisal    1222141.0        C         BBA    MALE  1000.0      1500\n",
      "14   Prabhjot kaur    1222097.0        B         BBA    MALE     NaN      2600\n",
      "15    Tanu kumari     1222074.0        B         BBA     NaN   111.0     30000\n",
      "16     Nidhi Singh   11222966.0        A         BBA    MALE    -2.0      1800\n",
      "17          Himani   11222565.0        B         LLB  FEMALE    45.0       785\n",
      "18           Komal   11222965.0        D       BTECH  FEMALE    65.0       100\n",
      "19            Rani   11222656.0        E         MBA  FEMALE    56.0        78\n",
      "20           Vimal    1122266.0        F         BCA    MALE    66.0        66\n",
      "21          sumant   11222656.0        L      PHARMA    MALE   100.0    200000\n",
      "22        Himanshu   11222969.0        M       BTECH    MALE   600.0    300000\n"
     ]
    }
   ],
   "source": [
    "import pandas as pd\n",
    "\n",
    "# Read the CSV file into a DataFrame\n",
    "df = pd.read_csv('Dataset - Form responses 1 (1).csv')\n",
    "\n",
    "# Display the column names to check if 'Marks' exists\n",
    "print(df.columns)\n",
    "\n",
    "# Replace blank values with NaN\n",
    "df.replace(\"\", pd.NA, inplace=True)\n",
    "\n",
    "# Handle missing values if 'Marks' exists\n",
    "if 'Marks' in df.columns:\n",
    "    df['Marks'].fillna(df['Marks'].mean(), inplace=True)\n",
    "else:\n",
    "    print(\"Column 'Marks' not found in the DataFrame\")\n",
    "\n",
    "# Display the updated dataset\n",
    "print(df)\n"
   ]
  },
  {
   "cell_type": "code",
   "execution_count": null,
   "id": "5e2d3f2e-e5eb-4d41-8ac6-de16b068f382",
   "metadata": {},
   "outputs": [],
   "source": []
  }
 ],
 "metadata": {
  "kernelspec": {
   "display_name": "Python 3 (ipykernel)",
   "language": "python",
   "name": "python3"
  },
  "language_info": {
   "codemirror_mode": {
    "name": "ipython",
    "version": 3
   },
   "file_extension": ".py",
   "mimetype": "text/x-python",
   "name": "python",
   "nbconvert_exporter": "python",
   "pygments_lexer": "ipython3",
   "version": "3.10.9"
  }
 },
 "nbformat": 4,
 "nbformat_minor": 5
}
