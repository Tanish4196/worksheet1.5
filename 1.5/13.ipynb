{
 "cells": [
  {
   "cell_type": "code",
   "execution_count": 5,
   "id": "ab102835-2c61-4be0-a5ee-c39f63ce6e2b",
   "metadata": {},
   "outputs": [
    {
     "name": "stdout",
     "output_type": "stream",
     "text": [
      "Mean Squared Error: 80283934.76230055\n",
      "R-squared: 0.6334033672728481\n",
      "Model Coefficients: [-103.63460724  689.73539313]\n",
      "Model Intercept: 37055.65073958042\n",
      "Predicted salary: 81709.91700508216\n"
     ]
    }
   ],
   "source": [
    "import numpy as np\n",
    "import pandas as pd\n",
    "from sklearn.linear_model import LinearRegression\n",
    "from sklearn.metrics import mean_squared_error, r2_score\n",
    "\n",
    "# Load data from CSV file\n",
    "file_path = r\"C:\\Users\\Abhishek\\Downloads\\mlr - Sheet1.csv\"\n",
    "df = pd.read_csv(file_path)\n",
    "\n",
    "# Remove leading and trailing spaces from column names\n",
    "df.columns = df.columns.str.strip()\n",
    "\n",
    "# Prepare input and output\n",
    "X = df[['Age', 'Experience']]\n",
    "y = df['Salary']\n",
    "\n",
    "# Initialize and train the model\n",
    "model = LinearRegression()\n",
    "model.fit(X, y)\n",
    "\n",
    "# Make predictions\n",
    "y_pred = model.predict(X)\n",
    "\n",
    "# Evaluate the model\n",
    "mse = mean_squared_error(y, y_pred)\n",
    "r2 = r2_score(y, y_pred)\n",
    "\n",
    "# Output results\n",
    "print(\"Mean Squared Error:\", mse)\n",
    "print(\"R-squared:\", r2)\n",
    "print(\"Model Coefficients:\", model.coef_)\n",
    "print(\"Model Intercept:\", model.intercept_)\n",
    "\n",
    "# Example prediction\n",
    "new_data = pd.DataFrame({'Age': [35], 'Experience': [70]})  # example data for Age and Experience\n",
    "predicted_salary = model.predict(new_data)\n",
    "print(\"Predicted salary:\", predicted_salary[0])\n"
   ]
  },
  {
   "cell_type": "code",
   "execution_count": null,
   "id": "e4fa4fd5-b12c-4b62-a846-27fdebf52225",
   "metadata": {},
   "outputs": [],
   "source": []
  }
 ],
 "metadata": {
  "kernelspec": {
   "display_name": "Python 3 (ipykernel)",
   "language": "python",
   "name": "python3"
  },
  "language_info": {
   "codemirror_mode": {
    "name": "ipython",
    "version": 3
   },
   "file_extension": ".py",
   "mimetype": "text/x-python",
   "name": "python",
   "nbconvert_exporter": "python",
   "pygments_lexer": "ipython3",
   "version": "3.10.9"
  }
 },
 "nbformat": 4,
 "nbformat_minor": 5
}
